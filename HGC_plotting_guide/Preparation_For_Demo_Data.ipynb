{
 "cells": [
  {
   "cell_type": "markdown",
   "metadata": {},
   "source": [
    "## The preparation for plotting"
   ]
  },
  {
   "cell_type": "markdown",
   "metadata": {},
   "source": [
    "### Loading data\n",
    "\n",
    "We use one simulation dataset provided by *SymSim* to show the plotting skills. The raw expression matrix and the annotation are saved as *.txt* files and we will provide the R codes to read them."
   ]
  },
  {
   "cell_type": "code",
   "execution_count": 1,
   "metadata": {},
   "outputs": [],
   "source": [
    "data.d4 <- read.table(\"DemoData/simulated_counts_discrete_Sigma0.40.txt\", header = T)\n",
    "annotation.d4 <- read.table(\"DemoData/cell_labels_discrete_Sigma0.40.txt\", header = T)"
   ]
  },
  {
   "cell_type": "code",
   "execution_count": 2,
   "metadata": {},
   "outputs": [],
   "source": [
    "# create fake gene names for the expression matrix\n",
    "data.d4 <- as.matrix(data.d4)\n",
    "\n",
    "GeneName <- NULL\n",
    "for(i in 1:3000){\n",
    "  GeneName[i] <- paste(\"Gene\",i,sep = \"\")\n",
    "}\n",
    "rownames(data.d4) <- GeneName"
   ]
  },
  {
   "cell_type": "markdown",
   "metadata": {},
   "source": [
    "### Creating Seurat project\n",
    "\n",
    "The preprocessing steps are based on the *Seurat* package. We will build the SNN graph and run HGC on it. Our environment is shown here.\n",
    "\n",
    "R version 4.0.0 (2020-04-24)\n",
    "Platform: x86_64-conda_cos6-linux-gnu (64-bit)\n",
    "Running under: CentOS Linux 7 (Core)\n",
    "\n",
    "attached base packages:stats, graphics, grDevices, utils, datasets, methods, base     \n",
    "other attached packages: Seurat_3.2.1"
   ]
  },
  {
   "cell_type": "code",
   "execution_count": 4,
   "metadata": {},
   "outputs": [],
   "source": [
    "library(Seurat)\n",
    "library(HGC)"
   ]
  },
  {
   "cell_type": "code",
   "execution_count": 6,
   "metadata": {},
   "outputs": [],
   "source": [
    "# preprocessing with Seurat, the parameters follow the defalt settings\n",
    "set.seed(82225)\n",
    "data.d4.seuratobj <- CreateSeuratObject(counts = data.d4, min.cells = 20)\n",
    "data.d4.seuratobj <- NormalizeData(object = data.d4.seuratobj, verbose = F)\n",
    "data.d4.seuratobj <- ScaleData(object = data.d4.seuratobj, features = row.names(data.d4.seuratobj), verbose = F)\n",
    "data.d4.seuratobj <- FindVariableFeatures(object = data.d4.seuratobj, nfeatures = 2000, verbose = F)\n",
    "data.d4.seuratobj <- RunPCA(object = data.d4.seuratobj, npcs = 100, verbose = F)\n",
    "data.d4.seuratobj <- RunTSNE(object = data.d4.seuratobj, reduction.name = \"tsne\", perplexity = 30, dims = 1:25, verbose = F)\n",
    "data.d4.seuratobj <- FindNeighbors(object = data.d4.seuratobj, nn.eps = 0.5, k.param = 30, dims = 1:25, verbose = F)"
   ]
  },
  {
   "cell_type": "code",
   "execution_count": 7,
   "metadata": {},
   "outputs": [],
   "source": [
    "# put the annotation file into the Seurat object\n",
    "data.d4.seuratobj$cell.type <- annotation.d4$pop"
   ]
  },
  {
   "cell_type": "markdown",
   "metadata": {},
   "source": [
    "### Running HGC\n",
    "\n",
    "The SNN graph is tranfered into the sparse matrix with the *as.sparse* matrix from *Seurat*. We save the clustering tree and the *Seurat* object as the *.Rdata* file for the plotting."
   ]
  },
  {
   "cell_type": "code",
   "execution_count": 8,
   "metadata": {},
   "outputs": [],
   "source": [
    "data.d4.graph <- as.sparse(data.d4.seuratobj@graphs$RNA_snn)"
   ]
  },
  {
   "cell_type": "code",
   "execution_count": 9,
   "metadata": {},
   "outputs": [
    {
     "data": {
      "text/plain": [
       "\n",
       "Call:\n",
       "NA\n",
       "\n",
       "Cluster method   : HGC \n",
       "Distance         : Node pair sampling ratio \n",
       "Number of objects: 1000 \n"
      ]
     },
     "metadata": {},
     "output_type": "display_data"
    }
   ],
   "source": [
    "# run HGC to get the clustering tree and save the results\n",
    "clus.tree <- HGC.paris(G = data.d4.graph)\n",
    "clus.tree"
   ]
  },
  {
   "cell_type": "code",
   "execution_count": 10,
   "metadata": {},
   "outputs": [],
   "source": [
    "save(clus.tree, data.d4.seuratobj, file = \"DemoData/datad4objects.Rdata\")"
   ]
  }
 ],
 "metadata": {
  "kernelspec": {
   "display_name": "R 4.0",
   "language": "R",
   "name": "ir40"
  },
  "language_info": {
   "codemirror_mode": "r",
   "file_extension": ".r",
   "mimetype": "text/x-r-source",
   "name": "R",
   "pygments_lexer": "r",
   "version": "4.0.0"
  }
 },
 "nbformat": 4,
 "nbformat_minor": 4
}

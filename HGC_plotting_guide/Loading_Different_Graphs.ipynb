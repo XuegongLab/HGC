{
 "cells": [
  {
   "cell_type": "markdown",
   "metadata": {},
   "source": [
    "## The records to read graphs from different popular scRNA-seq data analysis pipelines\n",
    "\n",
    "There are various data structures to save the graphs in R, while we just need the sparse matrix of the adjacent matrix as the input of *HGC*. And we provide some methods to transfer the graph to the sparse matrix. This guide will be maintained and the advice about graphs in R packages unincluded is welcomed."
   ]
  },
  {
   "cell_type": "markdown",
   "metadata": {},
   "source": [
    "### Loading the demo data\n",
    "\n",
    "Some pipelines may need a gene expression matrix as input, here we use the same demo dataset as in the *Plotting_Dendrogram_And_Low_Dimension_Visualization*."
   ]
  },
  {
   "cell_type": "code",
   "execution_count": 1,
   "metadata": {},
   "outputs": [],
   "source": [
    "data.d4 <- read.table(\"DemoData/simulated_counts_discrete_Sigma0.40.txt\", header = T)\n",
    "annotation.d4 <- read.table(\"DemoData/cell_labels_discrete_Sigma0.40.txt\", header = T)\n",
    "\n",
    "# create fake gene names for the expression matrix\n",
    "data.d4 <- as.matrix(data.d4)\n",
    "\n",
    "GeneName <- NULL\n",
    "for(i in 1:3000){\n",
    "  GeneName[i] <- paste(\"Gene\",i,sep = \"\")\n",
    "}\n",
    "rownames(data.d4) <- GeneName"
   ]
  },
  {
   "cell_type": "markdown",
   "metadata": {},
   "source": [
    "### Adjacent matrix\n",
    "\n",
    "The adjacent matrix of the graph could be directly converted by the function *as* in R package *Matrix*. We need a symmetric square matrix as the input, while we do not check the symmetry inner the package. We just read the upper triangle part of the matrix. "
   ]
  },
  {
   "cell_type": "code",
   "execution_count": 2,
   "metadata": {},
   "outputs": [],
   "source": [
    "library(Matrix)"
   ]
  },
  {
   "cell_type": "code",
   "execution_count": 3,
   "metadata": {},
   "outputs": [
    {
     "data": {
      "text/plain": [
       "\n",
       "Call:\n",
       "NA\n",
       "\n",
       "Cluster method   : HGC \n",
       "Distance         : Node pair sampling ratio \n",
       "Number of objects: 5 \n"
      ]
     },
     "metadata": {},
     "output_type": "display_data"
    }
   ],
   "source": [
    "G = matrix(1:25, ncol = 5, nrow = 5)\n",
    "G = G + t(G)\n",
    "G = as(G, \"dgCMatrix\")\n",
    "HGC::HGC.paris(G)"
   ]
  },
  {
   "cell_type": "markdown",
   "metadata": {},
   "source": [
    "### Seurat: PCA-based preprocessings\n",
    "\n",
    "*Seurat* is the pipeline we use in the article to do preprocessing and graph construction. The package provides its function *as.parse* to build the sparse matrix."
   ]
  },
  {
   "cell_type": "code",
   "execution_count": 4,
   "metadata": {},
   "outputs": [],
   "source": [
    "library(Seurat)\n",
    "load(\"DemoData/datad4objects.Rdata\")"
   ]
  },
  {
   "cell_type": "code",
   "execution_count": 5,
   "metadata": {},
   "outputs": [
    {
     "data": {
      "text/plain": [
       "\n",
       "Call:\n",
       "NA\n",
       "\n",
       "Cluster method   : HGC \n",
       "Distance         : Node pair sampling ratio \n",
       "Number of objects: 1000 \n"
      ]
     },
     "metadata": {},
     "output_type": "display_data"
    }
   ],
   "source": [
    "# The preparation of Seurat object is saved in the Preparation_For_Demo_Data.ipynb.\n",
    "data.d4.seuratobj <- HGC::FindClusteringTree(data.d4.seuratobj)\n",
    "data.d4.seuratobj@graphs$ClusteringTree"
   ]
  },
  {
   "cell_type": "markdown",
   "metadata": {},
   "source": [
    "### Seurat: GLMPCA-based preprocessings\n",
    "\n",
    "The GLMPCA has been included by package *seurat-wrappers* published in github."
   ]
  },
  {
   "cell_type": "code",
   "execution_count": 6,
   "metadata": {},
   "outputs": [
    {
     "name": "stderr",
     "output_type": "stream",
     "text": [
      "\n",
      "Attaching package: ‘SeuratWrappers’\n",
      "\n",
      "\n",
      "The following objects are masked from ‘package:Seurat’:\n",
      "\n",
      "    ALRAChooseKPlot, ReadAlevin, RunALRA\n",
      "\n",
      "\n"
     ]
    }
   ],
   "source": [
    "library(Seurat)\n",
    "library(SeuratWrappers)\n",
    "library(glmpca)\n",
    "library(scry)"
   ]
  },
  {
   "cell_type": "code",
   "execution_count": 7,
   "metadata": {},
   "outputs": [
    {
     "name": "stderr",
     "output_type": "stream",
     "text": [
      "Sparse matrices are not supported for minibatch='none'. Coercing to dense matrix. If this exhausts memory, consider setting minibatch to 'stochastic' or 'memoized'.\n",
      "\n"
     ]
    },
    {
     "data": {
      "text/plain": [
       "\n",
       "Call:\n",
       "NA\n",
       "\n",
       "Cluster method   : HGC \n",
       "Distance         : Node pair sampling ratio \n",
       "Number of objects: 1000 \n"
      ]
     },
     "metadata": {},
     "output_type": "display_data"
    }
   ],
   "source": [
    "set.seed(123)\n",
    "# Initial processing to select variable features\n",
    "m <- data.d4\n",
    "devs <- scry::devianceFeatureSelection(m)\n",
    "dev_ranked_genes <- rownames(data.d4)[order(devs, decreasing = TRUE)]\n",
    "topdev <- head(dev_ranked_genes, 2000)\n",
    "\n",
    "data.d4.seuratobj <- CreateSeuratObject(counts = data.d4)\n",
    "data.d4.seuratobj <- RunGLMPCA(data.d4.seuratobj, features = topdev, L = 25)\n",
    "data.d4.seuratobj <- FindNeighbors(data.d4.seuratobj, reduction = 'glmpca', dims = 1:25, verbose = FALSE)\n",
    "data.d4.seuratobj <- HGC::FindClusteringTree(data.d4.seuratobj)\n",
    "data.d4.seuratobj@graphs$ClusteringTree"
   ]
  },
  {
   "cell_type": "markdown",
   "metadata": {},
   "source": [
    "### monocle3\n",
    "\n",
    "Monocle3 is a pipeline designed from the lineage tracing of scRNA-seq datasets, and it could also finish a series of data analysis tasks like the visualization and clustering."
   ]
  },
  {
   "cell_type": "code",
   "execution_count": 8,
   "metadata": {},
   "outputs": [
    {
     "name": "stderr",
     "output_type": "stream",
     "text": [
      "Loading required package: Biobase\n",
      "\n",
      "Loading required package: BiocGenerics\n",
      "\n",
      "Loading required package: parallel\n",
      "\n",
      "\n",
      "Attaching package: ‘BiocGenerics’\n",
      "\n",
      "\n",
      "The following objects are masked from ‘package:parallel’:\n",
      "\n",
      "    clusterApply, clusterApplyLB, clusterCall, clusterEvalQ,\n",
      "    clusterExport, clusterMap, parApply, parCapply, parLapply,\n",
      "    parLapplyLB, parRapply, parSapply, parSapplyLB\n",
      "\n",
      "\n",
      "The following object is masked from ‘package:Matrix’:\n",
      "\n",
      "    which\n",
      "\n",
      "\n",
      "The following objects are masked from ‘package:stats’:\n",
      "\n",
      "    IQR, mad, sd, var, xtabs\n",
      "\n",
      "\n",
      "The following objects are masked from ‘package:base’:\n",
      "\n",
      "    anyDuplicated, append, as.data.frame, basename, cbind, colnames,\n",
      "    dirname, do.call, duplicated, eval, evalq, Filter, Find, get, grep,\n",
      "    grepl, intersect, is.unsorted, lapply, Map, mapply, match, mget,\n",
      "    order, paste, pmax, pmax.int, pmin, pmin.int, Position, rank,\n",
      "    rbind, Reduce, rownames, sapply, setdiff, sort, table, tapply,\n",
      "    union, unique, unsplit, which, which.max, which.min\n",
      "\n",
      "\n",
      "Welcome to Bioconductor\n",
      "\n",
      "    Vignettes contain introductory material; view with\n",
      "    'browseVignettes()'. To cite Bioconductor, see\n",
      "    'citation(\"Biobase\")', and for packages 'citation(\"pkgname\")'.\n",
      "\n",
      "\n",
      "Loading required package: SingleCellExperiment\n",
      "\n",
      "Loading required package: SummarizedExperiment\n",
      "\n",
      "Loading required package: GenomicRanges\n",
      "\n",
      "Loading required package: stats4\n",
      "\n",
      "Loading required package: S4Vectors\n",
      "\n",
      "\n",
      "Attaching package: ‘S4Vectors’\n",
      "\n",
      "\n",
      "The following object is masked from ‘package:Matrix’:\n",
      "\n",
      "    expand\n",
      "\n",
      "\n",
      "The following object is masked from ‘package:base’:\n",
      "\n",
      "    expand.grid\n",
      "\n",
      "\n",
      "Loading required package: IRanges\n",
      "\n",
      "Loading required package: GenomeInfoDb\n",
      "\n",
      "Loading required package: DelayedArray\n",
      "\n",
      "Loading required package: matrixStats\n",
      "\n",
      "\n",
      "Attaching package: ‘matrixStats’\n",
      "\n",
      "\n",
      "The following objects are masked from ‘package:Biobase’:\n",
      "\n",
      "    anyMissing, rowMedians\n",
      "\n",
      "\n",
      "\n",
      "Attaching package: ‘DelayedArray’\n",
      "\n",
      "\n",
      "The following objects are masked from ‘package:matrixStats’:\n",
      "\n",
      "    colMaxs, colMins, colRanges, rowMaxs, rowMins, rowRanges\n",
      "\n",
      "\n",
      "The following objects are masked from ‘package:base’:\n",
      "\n",
      "    aperm, apply, rowsum\n",
      "\n",
      "\n",
      "\n",
      "Attaching package: ‘SummarizedExperiment’\n",
      "\n",
      "\n",
      "The following object is masked from ‘package:Seurat’:\n",
      "\n",
      "    Assays\n",
      "\n",
      "\n",
      "\n",
      "Attaching package: ‘monocle3’\n",
      "\n",
      "\n",
      "The following objects are masked from ‘package:Biobase’:\n",
      "\n",
      "    exprs, fData, fData<-, pData, pData<-\n",
      "\n",
      "\n"
     ]
    }
   ],
   "source": [
    "library(monocle3)"
   ]
  },
  {
   "cell_type": "code",
   "execution_count": 9,
   "metadata": {},
   "outputs": [
    {
     "name": "stderr",
     "output_type": "stream",
     "text": [
      "Warning message in new_cell_data_set(expression_data = data.d4):\n",
      "“Warning: gene_metadata must contain a column verbatim named 'gene_short_name' for certain functions.”\n",
      "No preprocess_method specified, using preprocess_method = 'PCA'\n",
      "\n"
     ]
    },
    {
     "data": {
      "text/plain": [
       "\n",
       "Call:\n",
       "NA\n",
       "\n",
       "Cluster method   : HGC \n",
       "Distance         : Node pair sampling ratio \n",
       "Number of objects: 1000 \n"
      ]
     },
     "metadata": {},
     "output_type": "display_data"
    }
   ],
   "source": [
    "# Create monocle3 object\n",
    "cds <- new_cell_data_set(expression_data = data.d4)\n",
    "cds <- preprocess_cds(cds, num_dim = 100)\n",
    "cds <- reduce_dimension(cds, umap.fast_sgd = F)\n",
    "\n",
    "# The monocle3 object doesn't save the graph, instead they save the low dimension coordinates and calculate the graph from the coordinates each time.\n",
    "library(RANN)\n",
    "# Here we use UMAP as the instance.\n",
    "reduced_dim_res <- reducedDims(cds)[[\"UMAP\"]]\n",
    "\n",
    "data <- reduced_dim_res\n",
    "k <- 20 # default in monocle3\n",
    "tmp <- RANN::nn2(data, data, k + 1, searchtype = \"standard\")\n",
    "neighborMatrix <- tmp[[1]][, -1]\n",
    "distMatrix <- tmp[[2]][, -1]\n",
    "\n",
    "# Write the graph as sparse matrix\n",
    "library(Matrix)\n",
    "ncell <- nrow(neighborMatrix)\n",
    "G <- Matrix::sparseMatrix(i = rep(1:ncell, k), j = as.vector(neighborMatrix), x = 1)\n",
    "colnames(G) <- colnames(cds)\n",
    "rownames(G) <- colnames(cds)\n",
    "\n",
    "G <- G + t(G)\n",
    "\n",
    "# Calculate Jaccard similarity as weights\n",
    "nedge = length(G@i)/2\n",
    "G.df <- as.data.frame(summary(G))\n",
    "for(iter in 1:nedge){\n",
    "    i <- G.df$i[iter]\n",
    "    j <- G.df$j[iter]\n",
    "    uni <- length(intersect(neighborMatrix[i,], neighborMatrix[j,]))\n",
    "    jaccard.index <- uni/(2*k - uni)\n",
    "    G[i,j] <- jaccard.index\n",
    "    G[j,i] <- jaccard.index\n",
    "}\n",
    "\n",
    "HGC::HGC.paris(G)"
   ]
  },
  {
   "cell_type": "markdown",
   "metadata": {},
   "source": [
    "### Running HGC in MST\n",
    "\n",
    "HGC could suit a wide range of undirected graphs. Here we show it could provide a clustering tree along the minimum spanning tree."
   ]
  },
  {
   "cell_type": "code",
   "execution_count": 10,
   "metadata": {},
   "outputs": [
    {
     "name": "stderr",
     "output_type": "stream",
     "text": [
      "Loading required package: ape\n",
      "\n"
     ]
    },
    {
     "data": {
      "text/plain": [
       "\n",
       "Call:\n",
       "NA\n",
       "\n",
       "Cluster method   : HGC \n",
       "Distance         : Node pair sampling ratio \n",
       "Number of objects: 1000 \n"
      ]
     },
     "metadata": {},
     "output_type": "display_data"
    }
   ],
   "source": [
    "## load the PC space for datad4\n",
    "load(\"DemoData/datad4objects.Rdata\")\n",
    "PCs <- data.d4.seuratobj@reductions$pca@cell.embeddings[,1:25]\n",
    "\n",
    "require(ape)\n",
    "require(Matrix)\n",
    "\n",
    "ncell <- nrow(PCs)\n",
    "D <- dist(PCs)\n",
    "dmst <- ape::mst(D)\n",
    "    \n",
    "mst.G <- matrix(0, nrow = ncell, ncol = ncell)\n",
    "mst.G[which(dmst > 0)] = 1\n",
    "mst.G <- as(mst.G, \"dgCMatrix\")\n",
    "\n",
    "HGC::HGC.paris(mst.G)"
   ]
  },
  {
   "cell_type": "markdown",
   "metadata": {},
   "source": [
    "### Running HGC in PMST\n",
    "\n",
    "Perturbed minimum spanning tree (PMST) is a graph construction method based on MST. It combines a number of MSTs, each fit to a perturebed version of the dataset. Meanwhile, the coustruction of PMST is time-consuming.\n",
    "\n",
    "Reference: https://dl.acm.org/doi/10.5555/2976040.2976069."
   ]
  },
  {
   "cell_type": "code",
   "execution_count": 11,
   "metadata": {},
   "outputs": [],
   "source": [
    "require(ape)\n",
    "require(Matrix)\n",
    "require(RANN)\n",
    "\n",
    "## PMST function\n",
    "PMST_Construction <- function(mat, iter = 20, r = 0.5, seed = 100){\n",
    "    ncell <- nrow(mat)\n",
    "    nfeature <- ncol(mat)\n",
    "    D <- dist(mat)\n",
    "    mst.G <- matrix(0, nrow = ncell, ncol = ncell)\n",
    "    \n",
    "    ## Build the knn on the original space\n",
    "    k <- 3\n",
    "    tmp <- RANN::nn2(mat, mat, k + 1, searchtype = \"standard\")\n",
    "    neighborMatrix <- tmp[[1]][, -1]\n",
    "    distMatrix <- tmp[[2]][, -1]\n",
    "    # for each node, record the coordinate of the average of its three nearest neighbors\n",
    "    neighborLocation <- mat\n",
    "    for(i in 1:ncell){\n",
    "        neighbor1 <- neighborMatrix[i,1]\n",
    "        neighbor2 <- neighborMatrix[i,2]\n",
    "        neighbor3 <- neighborMatrix[i,3]\n",
    "    \n",
    "        neighbor1.site <- as.vector(mat[neighbor1,])\n",
    "        neighbor2.site <- as.vector(mat[neighbor2,])\n",
    "        neighbor3.site <- as.vector(mat[neighbor3,])\n",
    "    \n",
    "        new.neighbor <- (neighbor1.site + neighbor2.site + neighbor3.site)/3\n",
    "        neighborLocation[i,] <- new.neighbor\n",
    "    }\n",
    "    \n",
    "    set.seed(seed)\n",
    "    ## Perturbation\n",
    "    for(i in 1:iter){\n",
    "        new.mat1 <- mat\n",
    "        new.mat2 <- neighborLocation\n",
    "        \n",
    "        random.r1 <- runif(n = ncell, min = 0, max = r)\n",
    "        random.r2 <- rep(1, ncell) - random.r1\n",
    "        \n",
    "        new.mat <- new.mat1*random.r1 + new.mat2*random.r2\n",
    "        new.D <- dist(new.mat)\n",
    "        new.mst <- ape::mst(new.D)\n",
    "        \n",
    "        new.mst.G <- matrix(0, nrow = ncell, ncol = ncell)\n",
    "        new.mst.G[which(new.mst > 0)] = 1\n",
    "        \n",
    "        mst.G <- mst.G + new.mst.G\n",
    "    }\n",
    "    \n",
    "    return(mst.G)\n",
    "}"
   ]
  },
  {
   "cell_type": "code",
   "execution_count": 12,
   "metadata": {},
   "outputs": [
    {
     "data": {
      "text/plain": [
       "\n",
       "Call:\n",
       "NA\n",
       "\n",
       "Cluster method   : HGC \n",
       "Distance         : Node pair sampling ratio \n",
       "Number of objects: 1000 \n"
      ]
     },
     "metadata": {},
     "output_type": "display_data"
    }
   ],
   "source": [
    "pmst.G <- PMST_Construction(mat = PCs)\n",
    "pmst.G <- as(pmst.G, \"dgCMatrix\")\n",
    "\n",
    "HGC::HGC.paris(pmst.G)"
   ]
  }
 ],
 "metadata": {
  "kernelspec": {
   "display_name": "R 4.0",
   "language": "R",
   "name": "ir40"
  },
  "language_info": {
   "codemirror_mode": "r",
   "file_extension": ".r",
   "mimetype": "text/x-r-source",
   "name": "R",
   "pygments_lexer": "r",
   "version": "4.0.0"
  }
 },
 "nbformat": 4,
 "nbformat_minor": 4
}
